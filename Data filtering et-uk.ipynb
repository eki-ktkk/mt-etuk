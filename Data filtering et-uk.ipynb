{
 "cells": [
  {
   "cell_type": "code",
   "execution_count": null,
   "id": "be8b9054-a7b7-48e2-81e3-960986550e81",
   "metadata": {
    "gradient": {
     "editing": false,
     "id": "be8b9054-a7b7-48e2-81e3-960986550e81",
     "kernelId": ""
    }
   },
   "outputs": [],
   "source": [
    "! pip install sentencepiece"
   ]
  },
  {
   "cell_type": "code",
   "execution_count": null,
   "id": "7b9224a1-9e30-4ec3-ad7e-831b6e307b73",
   "metadata": {
    "gradient": {
     "editing": false,
     "id": "7b9224a1-9e30-4ec3-ad7e-831b6e307b73",
     "kernelId": ""
    }
   },
   "outputs": [],
   "source": [
    "! pip install protobuf"
   ]
  },
  {
   "cell_type": "code",
   "execution_count": null,
   "id": "0724f5db-82fe-40ea-b303-b032a31f8847",
   "metadata": {
    "gradient": {
     "editing": false,
     "id": "0724f5db-82fe-40ea-b303-b032a31f8847",
     "kernelId": ""
    }
   },
   "outputs": [],
   "source": [
    "! git clone https://github.com/TartuNLP/fairseq.git --branch mtee-0.1.0"
   ]
  },
  {
   "cell_type": "code",
   "execution_count": null,
   "id": "d52db6b9-1278-4e60-80e5-3bc35a28d821",
   "metadata": {
    "gradient": {
     "editing": false,
     "id": "d52db6b9-1278-4e60-80e5-3bc35a28d821",
     "kernelId": ""
    }
   },
   "outputs": [],
   "source": [
    "cd /notebooks/fairseq "
   ]
  },
  {
   "cell_type": "code",
   "execution_count": null,
   "id": "3bc52eb5-f6e1-46ac-b9f2-9f9141236b80",
   "metadata": {
    "gradient": {
     "editing": false,
     "id": "3bc52eb5-f6e1-46ac-b9f2-9f9141236b80",
     "kernelId": ""
    }
   },
   "outputs": [],
   "source": [
    "pip install ./"
   ]
  },
  {
   "cell_type": "code",
   "execution_count": null,
   "id": "3f0e08f0-aa91-4f39-8f96-cc7d71bcf122",
   "metadata": {
    "gradient": {
     "editing": false,
     "id": "3f0e08f0-aa91-4f39-8f96-cc7d71bcf122",
     "kernelId": ""
    }
   },
   "outputs": [],
   "source": [
    "pip install tensorboard"
   ]
  },
  {
   "cell_type": "code",
   "execution_count": null,
   "id": "ba65a475-f2a4-45f0-b9d0-ae9379e648b2",
   "metadata": {
    "gradient": {
     "editing": false,
     "id": "ba65a475-f2a4-45f0-b9d0-ae9379e648b2",
     "kernelId": ""
    }
   },
   "outputs": [],
   "source": [
    "cd .."
   ]
  },
  {
   "cell_type": "code",
   "execution_count": null,
   "id": "d6f2acb5-ec12-46ca-8344-cca7c05c27fb",
   "metadata": {
    "gradient": {
     "editing": false,
     "id": "d6f2acb5-ec12-46ca-8344-cca7c05c27fb",
     "kernelId": ""
    }
   },
   "outputs": [],
   "source": [
    "! git clone https://github.com/NVIDIA/apex"
   ]
  },
  {
   "cell_type": "code",
   "execution_count": null,
   "id": "1619bac6-e866-4be0-8d2b-31513cb01a90",
   "metadata": {
    "gradient": {
     "editing": false,
     "id": "1619bac6-e866-4be0-8d2b-31513cb01a90",
     "kernelId": ""
    }
   },
   "outputs": [],
   "source": [
    "cd apex"
   ]
  },
  {
   "cell_type": "code",
   "execution_count": null,
   "id": "75210d1c-517b-4ba1-b062-3ad74ca5c5b9",
   "metadata": {
    "gradient": {
     "editing": false,
     "id": "75210d1c-517b-4ba1-b062-3ad74ca5c5b9",
     "kernelId": ""
    }
   },
   "outputs": [],
   "source": [
    "! pip install -v --disable-pip-version-check --no-cache-dir ./"
   ]
  },
  {
   "cell_type": "code",
   "execution_count": null,
   "id": "ea7e59f9-8ee4-465d-9d8d-51a7b4fcc65b",
   "metadata": {
    "gradient": {
     "editing": false,
     "id": "ea7e59f9-8ee4-465d-9d8d-51a7b4fcc65b",
     "kernelId": ""
    }
   },
   "outputs": [],
   "source": [
    "cd .."
   ]
  },
  {
   "cell_type": "code",
   "execution_count": null,
   "id": "0ad31a0f-b771-4602-bbdc-3018ec45a8ca",
   "metadata": {
    "gradient": {
     "editing": false,
     "id": "0ad31a0f-b771-4602-bbdc-3018ec45a8ca",
     "kernelId": ""
    }
   },
   "outputs": [],
   "source": [
    "pip install setuptools==57"
   ]
  },
  {
   "cell_type": "code",
   "execution_count": null,
   "id": "f93eceaa-fd9f-4805-a68a-51817f3348f1",
   "metadata": {
    "gradient": {
     "editing": false,
     "id": "f93eceaa-fd9f-4805-a68a-51817f3348f1",
     "kernelId": ""
    }
   },
   "outputs": [],
   "source": [
    "pip install Cython"
   ]
  },
  {
   "cell_type": "code",
   "execution_count": null,
   "id": "45016ed5-8701-42f2-85b4-ef7b1704f0dc",
   "metadata": {
    "gradient": {
     "editing": false,
     "id": "45016ed5-8701-42f2-85b4-ef7b1704f0dc",
     "kernelId": ""
    }
   },
   "outputs": [],
   "source": [
    "cd /notebooks"
   ]
  },
  {
   "cell_type": "code",
   "execution_count": null,
   "id": "21ab8f78-d90a-4782-95b3-bd1e0ec05484",
   "metadata": {
    "gradient": {
     "editing": false,
     "id": "21ab8f78-d90a-4782-95b3-bd1e0ec05484",
     "kernelId": ""
    }
   },
   "outputs": [],
   "source": [
    "! git clone https://github.com/robertostling/eflomal.git"
   ]
  },
  {
   "cell_type": "code",
   "execution_count": null,
   "id": "f4e595fc-f016-4c78-82e9-a6abd8d47629",
   "metadata": {
    "gradient": {
     "editing": false,
     "id": "f4e595fc-f016-4c78-82e9-a6abd8d47629",
     "kernelId": ""
    }
   },
   "outputs": [],
   "source": [
    "cd eflomal"
   ]
  },
  {
   "cell_type": "code",
   "execution_count": null,
   "id": "f6c3cf76-503f-4ac4-98aa-02c2e6589dcc",
   "metadata": {
    "gradient": {
     "editing": false,
     "id": "f6c3cf76-503f-4ac4-98aa-02c2e6589dcc",
     "kernelId": ""
    }
   },
   "outputs": [],
   "source": [
    "mkdir -p /notebooks/software/eflomal_install"
   ]
  },
  {
   "cell_type": "code",
   "execution_count": null,
   "id": "d4a16f51-5c11-4865-8e74-2bfdd1a7247d",
   "metadata": {
    "gradient": {
     "editing": false,
     "id": "d4a16f51-5c11-4865-8e74-2bfdd1a7247d",
     "kernelId": ""
    }
   },
   "outputs": [],
   "source": [
    "! make install -e INSTALLDIR=/notebooks/software/eflomal_install"
   ]
  },
  {
   "cell_type": "code",
   "execution_count": null,
   "id": "d045221c-24fd-42a9-96c2-e7c75b4456f8",
   "metadata": {
    "gradient": {
     "editing": false,
     "id": "d045221c-24fd-42a9-96c2-e7c75b4456f8",
     "kernelId": ""
    }
   },
   "outputs": [],
   "source": [
    "! python3 setup.py install"
   ]
  },
  {
   "cell_type": "code",
   "execution_count": null,
   "id": "8236df82-673a-46ae-b601-61fdf0e7cdf0",
   "metadata": {
    "gradient": {
     "editing": false,
     "id": "8236df82-673a-46ae-b601-61fdf0e7cdf0",
     "kernelId": ""
    }
   },
   "outputs": [],
   "source": [
    "! cp *.py /notebooks/software/eflomal_install/."
   ]
  },
  {
   "cell_type": "code",
   "execution_count": null,
   "id": "d3d9104e-9e4a-4e75-9bb9-e4223256b6c5",
   "metadata": {
    "gradient": {
     "editing": false,
     "id": "d3d9104e-9e4a-4e75-9bb9-e4223256b6c5",
     "kernelId": ""
    }
   },
   "outputs": [],
   "source": [
    "%env EFLOMAL_PATH=/notebooks/efomal/software/eflomal_install/"
   ]
  },
  {
   "cell_type": "code",
   "execution_count": null,
   "id": "e983b840-2633-4de2-9eb8-7e8f1923c764",
   "metadata": {
    "gradient": {
     "editing": false,
     "id": "e983b840-2633-4de2-9eb8-7e8f1923c764",
     "kernelId": ""
    }
   },
   "outputs": [],
   "source": [
    "cd /notebooks"
   ]
  },
  {
   "cell_type": "code",
   "execution_count": null,
   "id": "d644a03f-5d0e-4d4f-9da7-700580f608c5",
   "metadata": {
    "gradient": {
     "editing": false,
     "id": "d644a03f-5d0e-4d4f-9da7-700580f608c5",
     "kernelId": ""
    }
   },
   "outputs": [],
   "source": [
    "! git clone https://github.com/Helsinki-NLP/OpusFilter.git"
   ]
  },
  {
   "cell_type": "code",
   "execution_count": null,
   "id": "a033c078-d23f-411f-ba1a-c8fac3473a18",
   "metadata": {
    "gradient": {
     "id": "a033c078-d23f-411f-ba1a-c8fac3473a18",
     "kernelId": ""
    }
   },
   "outputs": [],
   "source": [
    "cd OpusFilter"
   ]
  },
  {
   "cell_type": "code",
   "execution_count": null,
   "id": "88105f77-edee-4249-87f4-0bb230e65288",
   "metadata": {},
   "outputs": [],
   "source": [
    "! python setup.py install"
   ]
  },
  {
   "cell_type": "code",
   "execution_count": null,
   "id": "e05b7feb-8a9a-4bef-9c36-67639241d664",
   "metadata": {},
   "outputs": [],
   "source": [
    "pip install laserembeddings"
   ]
  },
  {
   "cell_type": "code",
   "execution_count": null,
   "id": "06579805-b732-4b7a-acdf-365b43d89619",
   "metadata": {},
   "outputs": [],
   "source": [
    "! python -m laserembeddings download-models"
   ]
  },
  {
   "cell_type": "code",
   "execution_count": null,
   "id": "0da9d3fa-7bdd-4c1b-821d-8f756c76f0f5",
   "metadata": {
    "gradient": {
     "editing": false,
     "id": "0da9d3fa-7bdd-4c1b-821d-8f756c76f0f5",
     "kernelId": ""
    }
   },
   "outputs": [],
   "source": [
    " ! opusfilter filter.yaml"
   ]
  },
  {
   "cell_type": "code",
   "execution_count": null,
   "id": "58965ec6-d035-4026-bfbc-b9167550d5cf",
   "metadata": {},
   "outputs": [],
   "source": [
    "cd .."
   ]
  },
  {
   "cell_type": "code",
   "execution_count": null,
   "id": "43ffccbe-b2e7-4c57-a08b-ce258ff2fb19",
   "metadata": {},
   "outputs": [],
   "source": [
    " ! opusfilter filter-part.yaml"
   ]
  },
  {
   "cell_type": "code",
   "execution_count": null,
   "id": "aa256e42-d9a9-46ac-b35f-ddc0bfd2bb08",
   "metadata": {},
   "outputs": [],
   "source": [
    "! cat laser-filter-missing.et-uk.et >> laser-filter-all.et-uk.et"
   ]
  },
  {
   "cell_type": "code",
   "execution_count": null,
   "id": "3ffe2a2f-1b1b-4f23-8261-142414ac2970",
   "metadata": {},
   "outputs": [],
   "source": [
    "cd corpora"
   ]
  },
  {
   "cell_type": "code",
   "execution_count": null,
   "id": "e2f6a19c-2082-4812-b603-1035dab739f0",
   "metadata": {},
   "outputs": [],
   "source": [
    "! cat laser-filter-missing.et-uk.uk >> laser-filter-all.et-uk.uk"
   ]
  },
  {
   "cell_type": "code",
   "execution_count": null,
   "id": "5f78ffff-b1d4-46d1-bc81-90f868598fc8",
   "metadata": {},
   "outputs": [],
   "source": [
    "! opusfilter filter-rededup.yaml"
   ]
  },
  {
   "cell_type": "code",
   "execution_count": null,
   "id": "95478d47-379a-4fc4-a0f0-cb5b78b93022",
   "metadata": {},
   "outputs": [],
   "source": [
    "cd corpora"
   ]
  },
  {
   "cell_type": "code",
   "execution_count": null,
   "id": "e2e69eb8-a303-4c38-aedc-5106a9251169",
   "metadata": {},
   "outputs": [],
   "source": [
    "mv rededup-all.et-uk.et all.et-uk.et"
   ]
  },
  {
   "cell_type": "code",
   "execution_count": null,
   "id": "44cc2111-06cd-43d4-85bc-0e309aabb533",
   "metadata": {},
   "outputs": [],
   "source": [
    "mv rededup-all.et-uk.uk all.et-uk.uk"
   ]
  },
  {
   "cell_type": "code",
   "execution_count": null,
   "id": "95fad7dc-e0c7-48f6-aac4-402f90fc6cc5",
   "metadata": {},
   "outputs": [],
   "source": [
    "! sh ../split-file.sh all.et-uk.et 90 10"
   ]
  },
  {
   "cell_type": "code",
   "execution_count": null,
   "id": "cba4eded-a6c4-4708-a4bf-483cab50007b",
   "metadata": {},
   "outputs": [],
   "source": [
    "mv part00 train.et-uk.et"
   ]
  },
  {
   "cell_type": "code",
   "execution_count": null,
   "id": "06cab34c-5200-4574-9397-9eebf9c70ba6",
   "metadata": {},
   "outputs": [],
   "source": [
    "mv part01 valid.et-uk.et"
   ]
  },
  {
   "cell_type": "code",
   "execution_count": null,
   "id": "3528bd26-e3c5-4a49-9b92-ec0b35cd669e",
   "metadata": {},
   "outputs": [],
   "source": [
    "! sh ../split-file.sh all.et-uk.uk 90 10"
   ]
  },
  {
   "cell_type": "code",
   "execution_count": null,
   "id": "a045cc47-6503-4706-aca4-4fa544191638",
   "metadata": {},
   "outputs": [],
   "source": [
    "mv part00 train.et-uk.uk"
   ]
  },
  {
   "cell_type": "code",
   "execution_count": null,
   "id": "e04df62a-47b3-4e44-8a1d-81250dc3123b",
   "metadata": {},
   "outputs": [],
   "source": [
    "mv part01 valid.et-uk.uk"
   ]
  },
  {
   "cell_type": "code",
   "execution_count": null,
   "id": "04fb918f-cd3a-4f76-a46c-2ed793919670",
   "metadata": {},
   "outputs": [],
   "source": [
    "! apt install percsplit"
   ]
  },
  {
   "cell_type": "code",
   "execution_count": null,
   "id": "51c7aa86-fa15-41ba-85c4-d07397f77540",
   "metadata": {},
   "outputs": [],
   "source": [
    "! percsplit "
   ]
  },
  {
   "cell_type": "code",
   "execution_count": null,
   "id": "5b9397e1-02cc-4002-8a7c-327fbf608356",
   "metadata": {},
   "outputs": [],
   "source": [
    "! apt install csplit"
   ]
  },
  {
   "cell_type": "code",
   "execution_count": null,
   "id": "99cda7ce-3926-4d62-8755-c03633f8ed48",
   "metadata": {},
   "outputs": [],
   "source": [
    "! which cplit"
   ]
  },
  {
   "cell_type": "code",
   "execution_count": null,
   "id": "7a8d59a8-29a0-4c0c-9c78-7ff60dc7a5d3",
   "metadata": {},
   "outputs": [],
   "source": []
  }
 ],
 "metadata": {
  "kernelspec": {
   "display_name": "Python 3 (ipykernel)",
   "language": "python",
   "name": "python3"
  },
  "language_info": {
   "codemirror_mode": {
    "name": "ipython",
    "version": 3
   },
   "file_extension": ".py",
   "mimetype": "text/x-python",
   "name": "python",
   "nbconvert_exporter": "python",
   "pygments_lexer": "ipython3",
   "version": "3.8.12"
  }
 },
 "nbformat": 4,
 "nbformat_minor": 5
}
