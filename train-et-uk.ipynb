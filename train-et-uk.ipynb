{
 "cells": [
  {
   "cell_type": "code",
   "execution_count": null,
   "id": "f3bffd60-cac9-46cf-9085-f3cef721b564",
   "metadata": {},
   "outputs": [],
   "source": [
    "%env DATA_DIR=/notebooks/corpora"
   ]
  },
  {
   "cell_type": "code",
   "execution_count": null,
   "id": "1e4f3aa3-1768-4300-af6a-49ca7b51bd80",
   "metadata": {},
   "outputs": [],
   "source": [
    "%env TEMP_DIR=/notebooks/temp"
   ]
  },
  {
   "cell_type": "code",
   "execution_count": null,
   "id": "6ac459da-2323-4214-9c23-94b5b65440ea",
   "metadata": {},
   "outputs": [],
   "source": [
    "%env SP_MODEL_DIR=/notebooks/sp_model_dir"
   ]
  },
  {
   "cell_type": "code",
   "execution_count": null,
   "id": "69750612-8d5d-4c12-b29d-0b074ed9692b",
   "metadata": {},
   "outputs": [],
   "source": [
    "%env SP_DATA_DIR=/notebooks/sp_data_dir"
   ]
  },
  {
   "cell_type": "code",
   "execution_count": null,
   "id": "394a7516-31bc-4160-8bb3-6a8e704ab8fb",
   "metadata": {},
   "outputs": [],
   "source": [
    "%env BIN=/notebooks/bin"
   ]
  },
  {
   "cell_type": "code",
   "execution_count": null,
   "id": "565569d8-3f24-48f8-93d2-09b1fd2c4564",
   "metadata": {},
   "outputs": [],
   "source": [
    "# ! git clone https://github.com/Project-MTee/model_training.git"
   ]
  },
  {
   "cell_type": "code",
   "execution_count": null,
   "id": "44d4b701-0dcc-4825-90ec-0c5b6cd52a02",
   "metadata": {},
   "outputs": [],
   "source": [
    "pip install protobuf "
   ]
  },
  {
   "cell_type": "code",
   "execution_count": null,
   "id": "721e0f8d-6665-45cb-a53b-8c22ca3852ba",
   "metadata": {},
   "outputs": [],
   "source": [
    "# git clone https://github.com/TartuNLP/fairseq.git --branch mtee-0.1.0"
   ]
  },
  {
   "cell_type": "code",
   "execution_count": null,
   "id": "5be1fa90-a92f-4985-bc5f-73a92f146e3b",
   "metadata": {},
   "outputs": [],
   "source": [
    "cd fairseq"
   ]
  },
  {
   "cell_type": "code",
   "execution_count": null,
   "id": "d16882c1-85bc-4563-8428-a1e0eff13626",
   "metadata": {},
   "outputs": [],
   "source": [
    "pip install ./"
   ]
  },
  {
   "cell_type": "code",
   "execution_count": null,
   "id": "faa86196-ddaf-404e-88bd-565ae4a0215c",
   "metadata": {},
   "outputs": [],
   "source": [
    "cd .."
   ]
  },
  {
   "cell_type": "code",
   "execution_count": null,
   "id": "692415f0-f00e-42ac-bed3-bc6ad9ad66f1",
   "metadata": {},
   "outputs": [],
   "source": [
    "pip install tensorboard"
   ]
  },
  {
   "cell_type": "code",
   "execution_count": null,
   "id": "5d457239-0c52-4bf5-a401-55a84ec1b396",
   "metadata": {},
   "outputs": [],
   "source": [
    "%env DEBIAN_FRONTEND=noninteractive"
   ]
  },
  {
   "cell_type": "code",
   "execution_count": null,
   "id": "fd27d5be-1f1c-4358-aed3-2564e4dc76b1",
   "metadata": {},
   "outputs": [],
   "source": [
    "! apt-get -y install tzdata"
   ]
  },
  {
   "cell_type": "code",
   "execution_count": null,
   "id": "ae495730-af08-4da4-abe5-8d569fd74331",
   "metadata": {},
   "outputs": [],
   "source": [
    "! apt-get install cmake build-essential pkg-config libgoogle-perftools-dev -y"
   ]
  },
  {
   "cell_type": "code",
   "execution_count": null,
   "id": "5eda80ef-28df-4e36-940a-c1625db99896",
   "metadata": {},
   "outputs": [],
   "source": [
    "# ! git clone https://github.com/google/sentencepiece.git"
   ]
  },
  {
   "cell_type": "code",
   "execution_count": null,
   "id": "726fc2a1-dfbe-4bc9-8396-a40eade1f782",
   "metadata": {},
   "outputs": [],
   "source": [
    "cd sentencepiece"
   ]
  },
  {
   "cell_type": "code",
   "execution_count": null,
   "id": "eb647b79-d2be-47ac-8ae9-cdbebe4e6405",
   "metadata": {},
   "outputs": [],
   "source": [
    "# mkdir build"
   ]
  },
  {
   "cell_type": "code",
   "execution_count": null,
   "id": "c028969b-734a-4fd0-b4d2-528bc83192e3",
   "metadata": {},
   "outputs": [],
   "source": [
    "cd build"
   ]
  },
  {
   "cell_type": "code",
   "execution_count": null,
   "id": "826bfa51-0d12-4ad8-b1bc-6309b17cfab7",
   "metadata": {},
   "outputs": [],
   "source": [
    "! cmake .."
   ]
  },
  {
   "cell_type": "code",
   "execution_count": null,
   "id": "6e263ede-01d1-46bb-bf47-a29ea23ed09b",
   "metadata": {},
   "outputs": [],
   "source": [
    "! make -j $(nproc)"
   ]
  },
  {
   "cell_type": "code",
   "execution_count": null,
   "id": "fb181d84-5ddd-429a-9637-72b0760bb6a0",
   "metadata": {},
   "outputs": [],
   "source": [
    "! make install"
   ]
  },
  {
   "cell_type": "code",
   "execution_count": null,
   "id": "e03f95ee-8a3a-45f4-8cb9-b949b3423107",
   "metadata": {},
   "outputs": [],
   "source": [
    "! ldconfig -v"
   ]
  },
  {
   "cell_type": "code",
   "execution_count": null,
   "id": "d401d9f5-6f13-4000-a2ec-217a12dcb650",
   "metadata": {},
   "outputs": [],
   "source": [
    "cd /notebooks"
   ]
  },
  {
   "cell_type": "code",
   "execution_count": null,
   "id": "5faf6961-f064-4ed7-8a71-0acce790316b",
   "metadata": {},
   "outputs": [],
   "source": [
    "cd model_training/modular"
   ]
  },
  {
   "cell_type": "code",
   "execution_count": null,
   "id": "5ee3f15f-1d4c-4f49-a10d-eb2adad98736",
   "metadata": {},
   "outputs": [],
   "source": [
    "! pip install tensorboardX"
   ]
  },
  {
   "cell_type": "code",
   "execution_count": null,
   "id": "44c2ad70-759f-4d6f-a183-69e622cd444a",
   "metadata": {},
   "outputs": [],
   "source": [
    "pip uninstall torch -y"
   ]
  },
  {
   "cell_type": "code",
   "execution_count": null,
   "id": "e0ff7947-a4bb-4a45-b65a-5eaf15abf7c9",
   "metadata": {},
   "outputs": [],
   "source": [
    "! pip install --pre torch -f https://download.pytorch.org/whl/nightly/cu113/torch_nightly.html"
   ]
  },
  {
   "cell_type": "code",
   "execution_count": null,
   "id": "34e6ecd6-d48b-45ec-b34e-cf1bc8bf2ae7",
   "metadata": {},
   "outputs": [],
   "source": [
    "pip uninstall apex -y"
   ]
  },
  {
   "cell_type": "code",
   "execution_count": null,
   "id": "a736062b-f70f-4e2c-842e-57b2aa11a29c",
   "metadata": {},
   "outputs": [],
   "source": [
    "!pip install -e \"/notebooks/apex\" --no-cache-dir --global-option=\"--cpp_ext\" --global-option=\"--cuda_ext\""
   ]
  },
  {
   "cell_type": "code",
   "execution_count": null,
   "id": "c31b99a2-11f3-4526-bdc2-f542a7889b68",
   "metadata": {},
   "outputs": [],
   "source": [
    "! bash train_sentencepiece.sh $DATA_DIR $TEMP_DIR $SP_MODEL_DIR et-uk 50000"
   ]
  },
  {
   "cell_type": "code",
   "execution_count": null,
   "id": "1f6654dd-f0fe-42ee-8dc9-5481b8525a3d",
   "metadata": {},
   "outputs": [],
   "source": [
    "! bash preprocess-fs.sh $DATA_DIR $SP_MODEL_DIR $BIN et-uk"
   ]
  },
  {
   "cell_type": "code",
   "execution_count": null,
   "id": "3e6eaf73-df13-4091-a8b6-c234579eb662",
   "metadata": {},
   "outputs": [],
   "source": [
    "! bash train_modular.sh $BIN checkpoints modular_baseline et-uk"
   ]
  },
  {
   "cell_type": "code",
   "execution_count": null,
   "id": "3bf76d42-7bdf-4a75-b1f3-43d3dcb044d0",
   "metadata": {},
   "outputs": [],
   "source": []
  }
 ],
 "metadata": {
  "kernelspec": {
   "display_name": "Python 3 (ipykernel)",
   "language": "python",
   "name": "python3"
  },
  "language_info": {
   "codemirror_mode": {
    "name": "ipython",
    "version": 3
   },
   "file_extension": ".py",
   "mimetype": "text/x-python",
   "name": "python",
   "nbconvert_exporter": "python",
   "pygments_lexer": "ipython3",
   "version": "3.8.12"
  }
 },
 "nbformat": 4,
 "nbformat_minor": 5
}
